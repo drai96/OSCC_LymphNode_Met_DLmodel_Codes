{
 "cells": [
  {
   "cell_type": "code",
   "execution_count": null,
   "metadata": {},
   "outputs": [],
   "source": [
    "#Patch (dimension: 256x256 pixels) generation from microscopic images (dimension: 1024x768 pixels) \n",
    "#Author: Dr Sourendra Nath Basu"
   ]
  },
  {
   "cell_type": "code",
   "execution_count": null,
   "metadata": {},
   "outputs": [],
   "source": [
    "import math\n",
    "import os\n",
    "import numpy as np\n",
    "import openslide\n",
    "from PIL import Image\n",
    "from openslide import OpenSlideError\n",
    "from openslide.deepzoom import DeepZoomGenerator\n",
    "import pandas as pd\n",
    "from scipy.ndimage import binary_fill_holes  # Updated import statement\n",
    "from skimage.color import rgb2gray\n",
    "from skimage.feature import canny  # Correct import for canny\n",
    "from skimage.morphology import binary_closing, binary_dilation, disk  # Removed binary_fill_holes\n",
    "import h5py\n",
    "from skimage.transform import resize\n",
    "import cv2"
   ]
  },
  {
   "cell_type": "code",
   "execution_count": null,
   "metadata": {},
   "outputs": [
    {
     "name": "stdout",
     "output_type": "stream",
     "text": [
      "/bin/bash: /home/drsourendra/anaconda3/envs/newenv/lib/libtinfo.so.6: no version information available (required by /bin/bash)\n",
      "Looking in indexes: https://pypi.org/simple, https://pypi.ngc.nvidia.com\n",
      "Requirement already satisfied: pillow in /home/drsourendra/anaconda3/envs/newenv/lib/python3.9/site-packages (9.4.0)\n",
      "Requirement already satisfied: scikit-image in /home/drsourendra/anaconda3/envs/newenv/lib/python3.9/site-packages (0.22.0)\n",
      "Requirement already satisfied: scipy in /home/drsourendra/anaconda3/envs/newenv/lib/python3.9/site-packages (1.10.0)\n",
      "Requirement already satisfied: numpy>=1.22 in /home/drsourendra/anaconda3/envs/newenv/lib/python3.9/site-packages (from scikit-image) (1.26.4)\n",
      "Requirement already satisfied: networkx>=2.8 in /home/drsourendra/anaconda3/envs/newenv/lib/python3.9/site-packages (from scikit-image) (3.0)\n",
      "Requirement already satisfied: imageio>=2.27 in /home/drsourendra/anaconda3/envs/newenv/lib/python3.9/site-packages (from scikit-image) (2.34.0)\n",
      "Requirement already satisfied: tifffile>=2022.8.12 in /home/drsourendra/anaconda3/envs/newenv/lib/python3.9/site-packages (from scikit-image) (2022.10.10)\n",
      "Requirement already satisfied: packaging>=21 in /home/drsourendra/anaconda3/envs/newenv/lib/python3.9/site-packages (from scikit-image) (23.0)\n",
      "Requirement already satisfied: lazy_loader>=0.3 in /home/drsourendra/anaconda3/envs/newenv/lib/python3.9/site-packages (from scikit-image) (0.4)\n"
     ]
    }
   ],
   "source": [
    "#To run in the selected virtual environment, NOT HERE\n",
    "!pip install pillow scikit-image scipy"
   ]
  },
  {
   "cell_type": "code",
   "execution_count": 2,
   "metadata": {},
   "outputs": [],
   "source": [
    "# Increase the maximum allowed image size to avoid DecompressionBombWarning\n",
    "# Be cautious with untrusted images to avoid potential DOS attacks\n",
    "Image.MAX_IMAGE_PIXELS = None  # Removes the limit entirely; use a specific higher limit if preferred"
   ]
  },
  {
   "cell_type": "code",
   "execution_count": null,
   "metadata": {},
   "outputs": [],
   "source": [
    "def open_slide(filename):\n",
    "    \"\"\"Attempt to open a slide file.\"\"\"\n",
    "    try:\n",
    "        slide = openslide.open_slide(filename)\n",
    "    except (openslide.OpenSlideError, FileNotFoundError):\n",
    "        slide = None\n",
    "    return slide\n",
    "\n",
    "def create_tile_generator(slide, tile_size, overlap):\n",
    "    \"\"\"Create a tile generator for a slide.\"\"\"\n",
    "    return openslide.deepzoom.DeepZoomGenerator(slide, tile_size=tile_size, overlap=overlap, limit_bounds=False)\n",
    "\n",
    "def get_highest_zoom_level(generator):\n",
    "    \"\"\"Get the highest available zoom level from the generator.\"\"\"\n",
    "    return generator.level_count - 1  # 0-based indexing\n",
    "\n",
    "def keep_tile(tile, tissue_threshold):\n",
    "    \"\"\"Determine if a tile should be kept based on tissue content.\"\"\"\n",
    "    edges = np.zeros(tile.shape[:2], dtype=bool)\n",
    "    for channel in range(tile.shape[2]):\n",
    "        edges |= canny(tile[:, :, channel])\n",
    "    tile_closed = binary_closing(edges, disk(10))\n",
    "    tile_dilated = binary_dilation(tile_closed, disk(10))\n",
    "    tile_filled = binary_fill_holes(tile_dilated)\n",
    "    percentage = tile_filled.mean()\n",
    "    return percentage >= tissue_threshold\n",
    "\n",
    "def save_coordinates_and_tile(coords_dataset, tiles_dataset, col, row, tile):\n",
    "    \"\"\"Save tile coordinates and tile data to an HDF5 file.\"\"\"\n",
    "    coords_dataset.resize(coords_dataset.shape[0] + 1, axis=0)\n",
    "    tiles_dataset.resize(tiles_dataset.shape[0] + 1, axis=0)\n",
    "    coords_dataset[-1] = [col, row]\n",
    "    tiles_dataset[-1] = tile\n",
    "\n",
    "def save_tile(tile, filename, col, row, slide_folder):\n",
    "    \"\"\"Save a tile as a tiff image in a slide-specific folder.\"\"\"\n",
    "    if not os.path.exists(slide_folder):\n",
    "        os.makedirs(slide_folder)\n",
    "    base_name = os.path.basename(filename).replace('.tiff', '')  # Modified to handle .tiff files\n",
    "    save_path = os.path.join(slide_folder, f\"{base_name}_tile_{col}_{row}.tiff\")\n",
    "    print(f\"{base_name}_tile_{col}_{row}.tiff\" + \" saved\")\n",
    "    cv2.imwrite(save_path, cv2.cvtColor(tile, cv2.COLOR_RGB2BGR))\n",
    "\n",
    "def process_slide(filename, tile_size, overlap, tissue_threshold, output_path):\n",
    "    \"\"\"Process an entire slide, saving tiles that meet criteria and saving images in specific folders.\"\"\"\n",
    "    try:\n",
    "        slide = open_slide(filename)\n",
    "        if slide is None:\n",
    "            print(f\"Failed to open slide: {filename}\")\n",
    "            return\n",
    "\n",
    "        generator = create_tile_generator(slide, tile_size, overlap)\n",
    "        zoom_level = get_highest_zoom_level(generator)\n",
    "        cols, rows = generator.level_tiles[zoom_level]\n",
    "\n",
    "        slide_name = os.path.splitext(os.path.basename(filename))[0]\n",
    "\n",
    "        # Define separate directories for h5 files and patch images\n",
    "        h5_save_folder = os.path.join(output_path, 'h5_files')\n",
    "        patches_save_folder = os.path.join(output_path, 'patches', slide_name)\n",
    "\n",
    "        if not os.path.exists(h5_save_folder):\n",
    "            os.makedirs(h5_save_folder)\n",
    "        if not os.path.exists(patches_save_folder):\n",
    "            os.makedirs(patches_save_folder)\n",
    "\n",
    "        save_path = os.path.join(h5_save_folder, f\"{slide_name}.h5\")\n",
    "\n",
    "        with h5py.File(save_path, 'w') as h5_file:\n",
    "            coords_dataset = h5_file.create_dataset('tile_coordinates', (0, 2), maxshape=(None, 2), dtype='int32')\n",
    "            tiles_dataset = h5_file.create_dataset('tile_data', (0, tile_size, tile_size, 3), maxshape=(None, tile_size, tile_size, 3), dtype='uint8')\n",
    "            num_patches_saved = 0\n",
    "\n",
    "            for col in range(cols):\n",
    "                for row in range(rows):\n",
    "                    tile = np.array(generator.get_tile(zoom_level, (col, row)))\n",
    "                    if tile.shape[0] < tile_size or tile.shape[1] < tile_size:\n",
    "                        continue  # Skip tiles smaller than the expected size\n",
    "                    if keep_tile(tile, tissue_threshold):\n",
    "                        resized_tile = resize(tile, (tile_size, tile_size, 3), preserve_range=True).astype('uint8')\n",
    "                        save_coordinates_and_tile(coords_dataset, tiles_dataset, col, row, resized_tile)\n",
    "                        save_tile(resized_tile, filename, col, row, patches_save_folder)\n",
    "                        num_patches_saved += 1\n",
    "\n",
    "            print(f\"Slide {slide_name}: Total tiles saved: {num_patches_saved}\")\n",
    "\n",
    "        return {'slide_name': slide_name, 'num_patches_saved': num_patches_saved}\n",
    "    except Exception as e:\n",
    "        print(f\"An error occurred: {e}\")\n",
    "\n",
    "\n",
    "# # Example usage\n"
   ]
  },
  {
   "cell_type": "code",
   "execution_count": null,
   "metadata": {},
   "outputs": [],
   "source": [
    "# Example usage\n",
    "if __name__ == \"__main__\":\n",
    "    folder = \"/home/drsourendra/Documents/Research Projects/LN_MET_Detect_AI/SLide-01_Images\"\n",
    "    save_folder = '/home/drsourendra/Documents/Research Projects/LN_MET_Detect_AI/SLide-01_Patches'\n",
    "    tile_size = 256  # Adjust based on your requirements\n",
    "    overlap = 0  # Adjust based on your requirements\n",
    "    tissue_threshold = 0.70  # Adjust based on your requirements (Otsu)\n",
    "\n",
    "    # Process each slide in the folder\n",
    "    slide_files = [os.path.join(folder, f) for f in os.listdir(folder) if f.endswith('.tiff')]\n",
    "    for slide_file in slide_files:\n",
    "        process_slide(slide_file, tile_size, overlap, tissue_threshold, save_folder)"
   ]
  }
 ],
 "metadata": {
  "kernelspec": {
   "display_name": "newenv",
   "language": "python",
   "name": "newenv"
  },
  "language_info": {
   "codemirror_mode": {
    "name": "ipython",
    "version": 3
   },
   "file_extension": ".py",
   "mimetype": "text/x-python",
   "name": "python",
   "nbconvert_exporter": "python",
   "pygments_lexer": "ipython3",
   "version": "3.9.18"
  }
 },
 "nbformat": 4,
 "nbformat_minor": 2
}
