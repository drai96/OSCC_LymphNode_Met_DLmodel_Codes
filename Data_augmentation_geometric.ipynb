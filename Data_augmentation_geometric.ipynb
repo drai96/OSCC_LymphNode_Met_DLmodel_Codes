{
 "cells": [
  {
   "cell_type": "code",
   "execution_count": null,
   "id": "22af4e82",
   "metadata": {},
   "outputs": [],
   "source": [
    "#Data augmentation for image patches\n",
    "#Paper title: : Detection of Lymph Node Metastasis in Oral Squamous Cell Carcinoma Using Deep Learning on Histopathology Images\n",
    "#Code author: SNB"
   ]
  },
  {
   "cell_type": "code",
   "execution_count": null,
   "id": "c547060e",
   "metadata": {},
   "outputs": [],
   "source": [
    "#Imports\n",
    "import os\n",
    "import cv2\n",
    "import numpy as np\n",
    "from pathlib import Path\n"
   ]
  },
  {
   "cell_type": "code",
   "execution_count": null,
   "id": "14d8de81",
   "metadata": {},
   "outputs": [],
   "source": [
    "#Augmentation function\n",
    "def augment_and_save(input_dir, output_dir):\n",
    "    os.makedirs(output_dir, exist_ok=True)\n",
    "    \n",
    "    for img_name in os.listdir(input_dir):\n",
    "        if img_name.lower().endswith(('.tif', '.tiff', '.png', '.jpg', '.jpeg')):\n",
    "            img_path = os.path.join(input_dir, img_name)\n",
    "            img = cv2.imread(img_path)\n",
    "            \n",
    "            if img is None:\n",
    "                print(f\"Warning: Failed to load {img_path}\")\n",
    "                continue\n",
    "            \n",
    "            base_name = Path(img_name).stem\n",
    "            \n",
    "            # Define augmentations: rotations and flips\n",
    "            rotations = {\n",
    "                \"rot0\": img,\n",
    "                \"rot90\": cv2.rotate(img, cv2.ROTATE_90_CLOCKWISE),\n",
    "                \"rot180\": cv2.rotate(img, cv2.ROTATE_180),\n",
    "                \"rot270\": cv2.rotate(img, cv2.ROTATE_90_COUNTERCLOCKWISE)\n",
    "            }\n",
    "            \n",
    "            for rot_name, rot_img in rotations.items():\n",
    "                # Save rotation\n",
    "                rot_path = os.path.join(output_dir, f\"{base_name}_{rot_name}.png\")\n",
    "                cv2.imwrite(rot_path, rot_img)\n",
    "                \n",
    "                # Horizontal flip\n",
    "                hflip = cv2.flip(rot_img, 1)\n",
    "                cv2.imwrite(os.path.join(output_dir, f\"{base_name}_{rot_name}_hflip.png\"), hflip)\n",
    "                \n",
    "                # Vertical flip\n",
    "                vflip = cv2.flip(rot_img, 0)\n",
    "                cv2.imwrite(os.path.join(output_dir, f\"{base_name}_{rot_name}_vflip.png\"), vflip)\n"
   ]
  },
  {
   "cell_type": "code",
   "execution_count": null,
   "id": "0e7b1b33",
   "metadata": {},
   "outputs": [],
   "source": [
    "\n",
    "# Example usage with predefined file paths\n",
    "\n",
    "input_meta_dir = \"/home/Documents/Research Projects/LN_MET_Detect_AI/SLide-01_Images/meta\"\n",
    "output_meta_dir = \"/home/Documents/Research Projects/LN_MET_Detect_AI/SLide-01_Images/meta_augmented\"\n",
    "\n",
    "\n",
    "# Run augmentation\n",
    "augment_and_save(input_meta_dir, output_meta_dir)\n",
    "augment_and_save(input_normal_dir, output_normal_dir)\n"
   ]
  }
 ],
 "metadata": {
  "language_info": {
   "name": "python"
  }
 },
 "nbformat": 4,
 "nbformat_minor": 5
}
