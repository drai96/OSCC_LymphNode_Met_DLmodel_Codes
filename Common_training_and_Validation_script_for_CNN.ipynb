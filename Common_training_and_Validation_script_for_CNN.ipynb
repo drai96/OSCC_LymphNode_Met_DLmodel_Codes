{
 "cells": [
  {
   "cell_type": "code",
   "execution_count": null,
   "metadata": {},
   "outputs": [],
   "source": [
    "#Training deep learning (convolutional neural networks) models using Python for classification of image patches\n",
    "#Project Title:Detection of Lymph Node Metastasis in Oral Squamous Cell Carcinoma Using Deep Learning on Histopathology Images\n",
    "#Author: SNB, NC"
   ]
  },
  {
   "cell_type": "code",
   "execution_count": null,
   "metadata": {},
   "outputs": [
    {
     "name": "stderr",
     "output_type": "stream",
     "text": [
      "2024-02-05 15:55:13.065861: I tensorflow/core/util/util.cc:169] oneDNN custom operations are on. You may see slightly different numerical results due to floating-point round-off errors from different computation orders. To turn them off, set the environment variable `TF_ENABLE_ONEDNN_OPTS=0`.\n"
     ]
    }
   ],
   "source": [
    "# 01\n",
    "# Importing necessary packages\n",
    "import pandas as pd\n",
    "import tensorflow as tf\n",
    "import seaborn as sns\n",
    "import numpy as np\n",
    "import matplotlib.pyplot as plt\n",
    "from tensorflow.keras.preprocessing.image import ImageDataGenerator\n",
    "from tensorflow.keras.models import Model\n",
    "from tensorflow.keras.models import load_model\n",
    "import os\n",
    "from tensorflow.keras.applications import DenseNet121\n",
    "from tensorflow.keras.applications import DenseNet169\n",
    "from tensorflow.keras.applications import DenseNet201\n",
    "from tensorflow.keras.applications import MobileNetV3Large\n",
    "from tensorflow.keras.applications import InceptionResNetV2\n",
    "from tensorflow.keras.applications import InceptionV3\n",
    "from tensorflow.keras.applications import NASNetLarge\n",
    "from tensorflow.keras.applications import NASNetMobile\n",
    "from tensorflow.keras.applications import VGG19\n",
    "from tensorflow.keras.applications import Xception\n",
    "from tensorflow.keras import layers\n",
    "from tensorflow.keras.preprocessing.image import ImageDataGenerator\n",
    "from sklearn.metrics import classification_report, confusion_matrix\n",
    "from tensorflow.keras.optimizers import RMSprop\n",
    "import cv2 #For OPENCV and .tiff\n",
    "\n",
    "#all imports succesfully installed Jan12, 2024, 02.08pm\n",
    "\n",
    "#tensorflow-2.15.0 incompatiable with latest python 3.12, this was solved under the supervision of Nisha Ma'am by downgrading 3.12 to 3.10 in our deignated \n",
    "#conda environment using help from Google Bard. ChatGPT lacks knowledge beyond Jan2024\n"
   ]
  },
  {
   "cell_type": "code",
   "execution_count": 2,
   "metadata": {},
   "outputs": [
    {
     "name": "stdout",
     "output_type": "stream",
     "text": [
      "[PhysicalDevice(name='/physical_device:GPU:0', device_type='GPU')]\n",
      "WARNING:tensorflow:From /tmp/ipykernel_2384692/2148170946.py:7: is_gpu_available (from tensorflow.python.framework.test_util) is deprecated and will be removed in a future version.\n",
      "Instructions for updating:\n",
      "Use `tf.config.list_physical_devices('GPU')` instead.\n",
      "True\n"
     ]
    },
    {
     "name": "stderr",
     "output_type": "stream",
     "text": [
      "2024-02-05 15:55:16.325457: I tensorflow/stream_executor/cuda/cuda_gpu_executor.cc:975] successful NUMA node read from SysFS had negative value (-1), but there must be at least one NUMA node, so returning NUMA node zero\n",
      "2024-02-05 15:55:16.341923: I tensorflow/stream_executor/cuda/cuda_gpu_executor.cc:975] successful NUMA node read from SysFS had negative value (-1), but there must be at least one NUMA node, so returning NUMA node zero\n",
      "2024-02-05 15:55:16.342639: I tensorflow/stream_executor/cuda/cuda_gpu_executor.cc:975] successful NUMA node read from SysFS had negative value (-1), but there must be at least one NUMA node, so returning NUMA node zero\n",
      "2024-02-05 15:55:16.344739: I tensorflow/core/platform/cpu_feature_guard.cc:193] This TensorFlow binary is optimized with oneAPI Deep Neural Network Library (oneDNN) to use the following CPU instructions in performance-critical operations:  AVX2 AVX_VNNI FMA\n",
      "To enable them in other operations, rebuild TensorFlow with the appropriate compiler flags.\n",
      "2024-02-05 15:55:16.345372: I tensorflow/stream_executor/cuda/cuda_gpu_executor.cc:975] successful NUMA node read from SysFS had negative value (-1), but there must be at least one NUMA node, so returning NUMA node zero\n",
      "2024-02-05 15:55:16.346135: I tensorflow/stream_executor/cuda/cuda_gpu_executor.cc:975] successful NUMA node read from SysFS had negative value (-1), but there must be at least one NUMA node, so returning NUMA node zero\n",
      "2024-02-05 15:55:16.347027: I tensorflow/stream_executor/cuda/cuda_gpu_executor.cc:975] successful NUMA node read from SysFS had negative value (-1), but there must be at least one NUMA node, so returning NUMA node zero\n",
      "2024-02-05 15:55:16.627102: I tensorflow/stream_executor/cuda/cuda_gpu_executor.cc:975] successful NUMA node read from SysFS had negative value (-1), but there must be at least one NUMA node, so returning NUMA node zero\n",
      "2024-02-05 15:55:16.627810: I tensorflow/stream_executor/cuda/cuda_gpu_executor.cc:975] successful NUMA node read from SysFS had negative value (-1), but there must be at least one NUMA node, so returning NUMA node zero\n",
      "2024-02-05 15:55:16.628459: I tensorflow/stream_executor/cuda/cuda_gpu_executor.cc:975] successful NUMA node read from SysFS had negative value (-1), but there must be at least one NUMA node, so returning NUMA node zero\n",
      "2024-02-05 15:55:16.628972: I tensorflow/core/common_runtime/gpu/gpu_device.cc:1532] Created device /device:GPU:0 with 21993 MB memory:  -> device: 0, name: NVIDIA RTX A5000, pci bus id: 0000:01:00.0, compute capability: 8.6\n"
     ]
    }
   ],
   "source": [
    "#21\n",
    "\n",
    "# Check if any GPUs are available\n",
    "print(tf.config.list_physical_devices('GPU'))\n",
    "\n",
    "# Check if TensorFlow can access the GPU\n",
    "print(tf.test.is_gpu_available())\n",
    "\n",
    "\n"
   ]
  },
  {
   "cell_type": "code",
   "execution_count": 3,
   "metadata": {},
   "outputs": [],
   "source": [
    "# 03\n",
    "\n",
    "#Configuring TensorFlow's GPU Memory Allocation\n",
    "os.environ['TF_GPU_ALLOCATOR'] = 'cuda_malloc_async'\n"
   ]
  },
  {
   "cell_type": "code",
   "execution_count": null,
   "metadata": {},
   "outputs": [],
   "source": [
    "# 04\n",
    "\n",
    "#ProjectDirectory and Data Directory\n",
    "project_path = '/home/Documents/TrainingCNN_LN_Met_OSCC/Traindata'  # ADD YOUR PROJECT PATH HERE\n",
    "data_path = f'/home/Documents/TrainingCNN_LN_Met_OSCC/Traindata/Augmented_Data'  # ADD YOUR DATA PATH HERE\n"
   ]
  },
  {
   "cell_type": "code",
   "execution_count": null,
   "metadata": {},
   "outputs": [],
   "source": [
    "# 05\n",
    "\n",
    "# Declaring Model Type\n",
    "model_type = 'Xception'  # Change this to the model you want to use for eg: InceptionResNetV2,MobileNetV2, InceptionV3,ResNet50\n",
    "#each time you run a specific model you have to change this parameter here and replace the existing one with the model you want to prepare"
   ]
  },
  {
   "cell_type": "code",
   "execution_count": null,
   "metadata": {},
   "outputs": [],
   "source": [
    "#06\n",
    "# ImageDataGenerator\n",
    "# color images\n",
    "datagen_train = ImageDataGenerator(rescale=1.0/255.0, validation_split=0.2)"
   ]
  },
  {
   "cell_type": "code",
   "execution_count": null,
   "metadata": {},
   "outputs": [
    {
     "name": "stdout",
     "output_type": "stream",
     "text": [
      "Found 342923 images belonging to 2 classes.\n"
     ]
    }
   ],
   "source": [
    "# 07\n",
    "\n",
    "# Training Data\n",
    "train_generator = datagen_train.flow_from_directory(\n",
    "    data_path,\n",
    "    target_size=(256, 256),\n",
    "    batch_size=32 if model_type not in ['NASNetLarge', 'NASNetMobile'] else 8,\n",
    "    class_mode='binary', #changed from multiclass categrical to binary \n",
    "    subset='training',\n",
    "    classes=['Normal', 'Meta']  # specify the correct order of classes\n",
    "  )"
   ]
  },
  {
   "cell_type": "code",
   "execution_count": null,
   "metadata": {},
   "outputs": [
    {
     "name": "stdout",
     "output_type": "stream",
     "text": [
      "Found 85729 images belonging to 2 classes.\n"
     ]
    }
   ],
   "source": [
    "# 08\n",
    "\n",
    "# Validation Data\n",
    "valid_generator = datagen_train.flow_from_directory(\n",
    "    data_path,\n",
    "    target_size=(256, 256),\n",
    "    batch_size=32 if model_type not in ['NASNetLarge', 'NASNetMobile'] else 8,\n",
    "    class_mode='binary', #changed from multiclass categrical to binary \n",
    "    subset='validation',\n",
    "    shuffle=False,\n",
    "    classes=['Normal', 'Meta']  # specify the correct order of classes\n",
    "   )"
   ]
  },
  {
   "cell_type": "code",
   "execution_count": null,
   "metadata": {},
   "outputs": [],
   "source": [
    "#21\n",
    "# Check if any GPUs are available\n",
    "print(tf.config.list_physical_devices('GPU'))\n",
    "\n",
    "# Check if TensorFlow can access the GPU\n",
    "print(tf.test.is_gpu_available())"
   ]
  },
  {
   "cell_type": "code",
   "execution_count": null,
   "metadata": {},
   "outputs": [],
   "source": [
    "#22\n",
    "#Check if any GPUs are available\n",
    "import tensorflow as tf\n",
    "print(\"Num GPUs Available: \", len(tf.config.list_physical_devices('GPU')))"
   ]
  },
  {
   "cell_type": "code",
   "execution_count": null,
   "metadata": {},
   "outputs": [],
   "source": [
    "#23\n",
    "\n",
    "import tensorflow as tf\n",
    "print(tf.__version__)"
   ]
  },
  {
   "cell_type": "code",
   "execution_count": null,
   "metadata": {},
   "outputs": [
    {
     "name": "stderr",
     "output_type": "stream",
     "text": [
      "2024-02-05 15:55:45.630441: I tensorflow/stream_executor/cuda/cuda_gpu_executor.cc:975] successful NUMA node read from SysFS had negative value (-1), but there must be at least one NUMA node, so returning NUMA node zero\n",
      "2024-02-05 15:55:45.631214: I tensorflow/stream_executor/cuda/cuda_gpu_executor.cc:975] successful NUMA node read from SysFS had negative value (-1), but there must be at least one NUMA node, so returning NUMA node zero\n",
      "2024-02-05 15:55:45.632016: I tensorflow/stream_executor/cuda/cuda_gpu_executor.cc:975] successful NUMA node read from SysFS had negative value (-1), but there must be at least one NUMA node, so returning NUMA node zero\n",
      "2024-02-05 15:55:45.632733: I tensorflow/stream_executor/cuda/cuda_gpu_executor.cc:975] successful NUMA node read from SysFS had negative value (-1), but there must be at least one NUMA node, so returning NUMA node zero\n",
      "2024-02-05 15:55:45.633393: I tensorflow/stream_executor/cuda/cuda_gpu_executor.cc:975] successful NUMA node read from SysFS had negative value (-1), but there must be at least one NUMA node, so returning NUMA node zero\n",
      "2024-02-05 15:55:45.634014: I tensorflow/core/common_runtime/gpu/gpu_device.cc:1532] Created device /job:localhost/replica:0/task:0/device:GPU:0 with 21993 MB memory:  -> device: 0, name: NVIDIA RTX A5000, pci bus id: 0000:01:00.0, compute capability: 8.6\n"
     ]
    }
   ],
   "source": [
    "# 12\n",
    "# For the selected CNN  \n",
    "if model_type == 'Xception':\n",
    "    inception = Xception(\n",
    "        weights='imagenet',\n",
    "        include_top=False,\n",
    "        input_shape=(256, 256, 3)\n",
    "    )\n",
    "    for layer in inception.layers:\n",
    "        layer.trainable = True\n",
    "    x = layers.Flatten()(inception.output)\n",
    "    x = layers.Dense(1024, activation='relu')(x)\n",
    "    x = layers.Dropout(0.2)(x)\n",
    "    x = layers.Dense(1, activation='sigmoid')(x)\n",
    "    model = Model(inception.input, x)\n",
    "    model.compile(optimizer=RMSprop(learning_rate=0.0001), loss='binary_crossentropy', metrics=['acc'])"
   ]
  },
  {
   "cell_type": "code",
   "execution_count": null,
   "metadata": {},
   "outputs": [],
   "source": [
    "# 19 \n",
    "#Model Summary\n",
    "\n",
    "if not os.path.exists(f'{project_path}/models/{model_type}'):\n",
    "    os.makedirs(f'{project_path}/models/{model_type}')\n",
    "# Model Summary\n",
    "model.summary()         "
   ]
  },
  {
   "cell_type": "code",
   "execution_count": null,
   "metadata": {},
   "outputs": [],
   "source": [
    "# 20 \n",
    "\n",
    "# Training the model\n",
    "print(\"------------------------------------------\")\n",
    "print(f'Training the model {model_type}')\n",
    "print(\"------------------------------------------\")\n",
    "history = model.fit(train_generator, validation_data=valid_generator, epochs=50)\n",
    "print(\"------------------------------------------\")\n",
    "print(f'Training Complete')\n",
    "print(\"------------------------------------------\")\n",
    "\n",
    "# Saving the model experimental 24.01.2024\n",
    "model.save(f'{project_path}/models/{model_type}/{model_type}.h5')\n",
    "print(\"------------------------------------------\")\n",
    "print(f'Model saved')\n",
    "print(\"------------------------------------------\")"
   ]
  },
  {
   "cell_type": "code",
   "execution_count": 12,
   "metadata": {},
   "outputs": [
    {
     "name": "stdout",
     "output_type": "stream",
     "text": [
      "Total training accuracy: 100.00%\n",
      "Total validation accuracy: 100.00%\n"
     ]
    }
   ],
   "source": [
    "#seprate script to cross check training and validation accuracy\n",
    "print(f'Total training accuracy: {history.history[\"acc\"][-1]*100:.2f}%')\n",
    "print(f'Total validation accuracy: {history.history[\"val_acc\"][-1]*100:.2f}%')"
   ]
  },
  {
   "cell_type": "code",
   "execution_count": 13,
   "metadata": {},
   "outputs": [],
   "source": [
    "# 26\n",
    "\n",
    "# Saving Training History\n",
    "hist_df = pd.DataFrame(history.history)\n",
    "# save to json:\n",
    "hist_json_file = f'{project_path}/models/{model_type}/history.json'\n",
    "with open(hist_json_file, mode='w') as f:\n",
    "    hist_df.to_json(f)\n",
    "# or save to csv:\n",
    "hist_csv_file = f'{project_path}/models/{model_type}/history.csv'\n",
    "with open(hist_csv_file, mode='w') as f:\n",
    "    hist_df.to_csv(f)"
   ]
  },
  {
   "cell_type": "code",
   "execution_count": null,
   "metadata": {},
   "outputs": [
    {
     "name": "stdout",
     "output_type": "stream",
     "text": [
      "2680/2680 [==============================] - 170s 63ms/step\n",
      "              precision    recall  f1-score   support\n",
      "\n",
      "        Norm       1.00      1.00      1.00     39737\n",
      "        Meta       1.00      1.00      1.00     45992\n",
      "\n",
      "    accuracy                           1.00     85729\n",
      "   macro avg       1.00      1.00      1.00     85729\n",
      "weighted avg       1.00      1.00      1.00     85729\n",
      "\n"
     ]
    }
   ],
   "source": [
    "# Predict classes To print classification report\n",
    "valid_generator.reset()\n",
    "Y_pred = model.predict(valid_generator, steps=valid_generator.samples // valid_generator.batch_size+1)\n",
    "y_pred = np.where(Y_pred > 0.5, 1, 0)\n",
    "\n",
    "# Get true classes\n",
    "y_true = valid_generator.classes\n",
    "\n",
    "# Print classification report\n",
    "print(classification_report(y_true, y_pred, target_names=['Norm', 'Meta']))"
   ]
  },
  {
   "cell_type": "code",
   "execution_count": null,
   "metadata": {},
   "outputs": [],
   "source": [
    "# 25\n",
    "\n",
    "# plotting the accuracy\n",
    "print(\"------------------------------------------\")\n",
    "print(f'Plotting and supplementary data')\n",
    "print(\"------------------------------------------\")\n",
    "plt.figure(figsize=(10, 10))\n",
    "plt.plot(history.history['acc'], label='Training Accuracy')\n",
    "plt.plot(history.history['val_acc'], label='Validation Accuracy')\n",
    "plt.title('Training and Validation Accuracy-InceptionResNetV2') #change model name here\n",
    "plt.legend(['train', 'test'], loc='upper left')\n",
    "plt.tight_layout()\n",
    "plt.savefig(f'{project_path}/models/{model_type}/Accuracy.jpg')"
   ]
  },
  {
   "cell_type": "code",
   "execution_count": null,
   "metadata": {},
   "outputs": [],
   "source": [
    "#new accuracy and loss graph 01.02.2024\n",
    "import pandas as pd\n",
    "import matplotlib.pyplot as plt\n",
    "\n",
    "# Load history\n",
    "# Replace 'path_to_your_file' with the path to your history.csv file\n",
    "history = pd.read_csv('__.csv') #put your histiry.csv file path here\n",
    "\n",
    "# Plot training & validation accuracy values\n",
    "plt.figure(figsize=(12, 4), dpi=300)\n",
    "\n",
    "plt.subplot(1, 2, 1)\n",
    "plt.plot(history['acc'])\n",
    "plt.plot(history['val_acc'])\n",
    "plt.title('Model accuracy-Xception')\n",
    "plt.ylabel('Accuracy')\n",
    "plt.xlabel('Epoch')\n",
    "plt.legend(['Train', 'Validation'], loc='center left', bbox_to_anchor=(1, 0.5))\n",
    "\n",
    "# Plot training & validation loss values\n",
    "plt.subplot(1, 2, 2)\n",
    "plt.plot(history['loss'])\n",
    "plt.plot(history['val_loss'])\n",
    "plt.title('Model loss-InceptionResNetV2')\n",
    "plt.ylabel('Loss')\n",
    "plt.xlabel('Epoch')\n",
    "plt.legend(['Train', 'Validation'], loc='center left', bbox_to_anchor=(1, 0.5))\n",
    "\n",
    "plt.tight_layout()\n",
    "plt.show()"
   ]
  },
  {
   "cell_type": "code",
   "execution_count": 18,
   "metadata": {},
   "outputs": [
    {
     "name": "stdout",
     "output_type": "stream",
     "text": [
      "2680/2680 [==============================] - 171s 63ms/step\n"
     ]
    }
   ],
   "source": [
    "# 27\n",
    "# Loading Model for Testing\n",
    "loaded_model = load_model(f'{project_path}/models/{model_type}/{model_type}.h5')\n",
    "outcomes = loaded_model.predict(valid_generator)\n",
    "y_pred = np.argmax(outcomes, axis=1)\n"
   ]
  },
  {
   "cell_type": "code",
   "execution_count": null,
   "metadata": {},
   "outputs": [],
   "source": [
    "#Confusion Maaaatrix with slecteted font and DPI class   labels 01.02.2024 17.51pm\n",
    "# Get class levels\n",
    "class_levels = valid_generator.class_indices\n",
    "class_labels = list(class_levels.keys())\n",
    "\n",
    "# Compute confusion matrix\n",
    "confusion = confusion_matrix(valid_generator.classes, y_pred)\n",
    "\n",
    "# Define labels for the confusion matrix\n",
    "labels = np.array([[f\"True Negative = {confusion[0][0]}\", f\"False Positive = {confusion[0][1]}\"],\n",
    "                   [f\"False Negative = {confusion[1][0]}\", f\"True Positive = {confusion[1][1]}\"]])\n",
    "\n",
    "# Plot confusion matrix\n",
    "plt.figure(figsize=(6, 4), dpi=300)\n",
    "sns.heatmap(confusion, annot=labels, fmt='', cmap='Blues', xticklabels=class_labels, yticklabels=class_labels)\n",
    "plt.title('Confusion Matrix-InceptionResNetNetV2')\n",
    "plt.xlabel('Predicted Label')\n",
    "plt.ylabel('True Label')\n",
    "plt.tight_layout()\n",
    "\n",
    "# Save the confusion matrix\n",
    "plt.savefig(f'{project_path}/models/{model_type}/Confusion_matrix.jpg', dpi=300)"
   ]
  },
  {
   "cell_type": "code",
   "execution_count": 22,
   "metadata": {},
   "outputs": [
    {
     "name": "stdout",
     "output_type": "stream",
     "text": [
      "2680/2680 [==============================] - 168s 63ms/step\n",
      "True Negatives: 39737\n",
      "False Positives: 0\n",
      "False Negatives: 0\n",
      "True Positives: 45992\n",
      "              precision  recall  f1-score  support\n",
      "Normal              1.0     1.0       1.0  39737.0\n",
      "Meta                1.0     1.0       1.0  45992.0\n",
      "accuracy            1.0     1.0       1.0      1.0\n",
      "macro avg           1.0     1.0       1.0  85729.0\n",
      "weighted avg        1.0     1.0       1.0  85729.0\n",
      "------------------------------------------\n",
      "Supplementary Data Saved\n",
      "------------------------------------------\n"
     ]
    }
   ],
   "source": [
    "#Correction done for Class Mismatch 17.33 01.02.2024\n",
    "from sklearn.metrics import confusion_matrix\n",
    "\n",
    "# Predict classes to print classification report\n",
    "valid_generator.reset()\n",
    "Y_pred = model.predict(valid_generator, steps=valid_generator.samples // valid_generator.batch_size+1)\n",
    "y_pred = np.where(Y_pred > 0.5, 1, 0)\n",
    "\n",
    "# Get true classes\n",
    "y_true = valid_generator.classes\n",
    "\n",
    "# Compute the confusion matrix\n",
    "tn, fp, fn, tp = confusion_matrix(y_true, y_pred).ravel()\n",
    "\n",
    "# Print the confusion matrix\n",
    "print(f'True Negatives: {tn}')\n",
    "print(f'False Positives: {fp}')\n",
    "print(f'False Negatives: {fn}')\n",
    "print(f'True Positives: {tp}')\n",
    "\n",
    "# Compute the classification report\n",
    "target_names = ['Normal', 'Meta']  # Updated target names\n",
    "report = classification_report(y_true, y_pred, target_names=target_names, output_dict=True)\n",
    "\n",
    "# Convert the report to a DataFrame\n",
    "df = pd.DataFrame(report).transpose()\n",
    "\n",
    "# Print the classification report\n",
    "print(df)\n",
    "\n",
    "# Save the classification report to a CSV file\n",
    "df.to_csv(f'{project_path}/models/{model_type}/Classification_report.csv')\n",
    "\n",
    "print(\"------------------------------------------\")\n",
    "print(f'Supplementary Data Saved')\n",
    "print(\"------------------------------------------\")"
   ]
  },
  {
   "cell_type": "code",
   "execution_count": null,
   "metadata": {},
   "outputs": [],
   "source": [
    "from sklearn.metrics import roc_curve, auc\n",
    "import matplotlib.pyplot as plt\n",
    "\n",
    "# Predict probabilities for the validation dataset\n",
    "valid_generator.reset()\n",
    "Y_pred = model.predict(valid_generator, steps=valid_generator.samples // valid_generator.batch_size+1)\n",
    "\n",
    "# Get true classes\n",
    "y_true = valid_generator.classes\n",
    "\n",
    "# Compute ROC curve and ROC area for each class\n",
    "fpr, tpr, _ = roc_curve(y_true, Y_pred)\n",
    "roc_auc = auc(fpr, tpr)\n",
    "\n",
    "# Plot ROC curve\n",
    "plt.figure(figsize=(6, 4), dpi=300)\n",
    "lw = 2\n",
    "plt.plot(fpr, tpr, color='darkorange', lw=lw, label='ROC curve (AUC = %0.2f)' % roc_auc)\n",
    "plt.plot([0, 1], [0, 1], color='navy', lw=lw, linestyle='--')\n",
    "plt.xlim([0.0, 1.0])\n",
    "plt.ylim([0.0, 1.05])\n",
    "plt.xlabel('False Positive Rate')\n",
    "plt.ylabel('True Positive Rate')\n",
    "plt.title('Receiver Operating Characteristic-InceptionResNetV2')\n",
    "plt.legend(loc=\"lower right\")\n",
    "plt.show()"
   ]
  },
  {
   "cell_type": "code",
   "execution_count": null,
   "metadata": {},
   "outputs": [],
   "source": [
    "####################################################################################################"
   ]
  }
 ],
 "metadata": {
  "kernelspec": {
   "display_name": "sourendra",
   "language": "python",
   "name": "python3"
  },
  "language_info": {
   "codemirror_mode": {
    "name": "ipython",
    "version": 3
   },
   "file_extension": ".py",
   "mimetype": "text/x-python",
   "name": "python",
   "nbconvert_exporter": "python",
   "pygments_lexer": "ipython3",
   "version": "3.9.18"
  }
 },
 "nbformat": 4,
 "nbformat_minor": 2
}
